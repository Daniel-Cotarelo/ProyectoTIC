{
 "cells": [
  {
   "cell_type": "code",
   "execution_count": 7,
   "id": "ad890eeb",
   "metadata": {},
   "outputs": [
    {
     "name": "stdout",
     "output_type": "stream",
     "text": [
      "[WinError 2] El sistema no puede encontrar el archivo especificado: 'scripts'\n",
      "c:\\Users\\cotar\\Documents\\proyectoParcialTic\\src\\vm_vs_docker_benchmark\\scripts\n"
     ]
    }
   ],
   "source": [
    "# Ya estamos en scripts, donde está el Dockerfile\n",
    "%cd scripts"
   ]
  },
  {
   "cell_type": "code",
   "execution_count": 11,
   "id": "aa06d3a5",
   "metadata": {},
   "outputs": [
    {
     "name": "stderr",
     "output_type": "stream",
     "text": [
      "#0 building with \"desktop-linux\" instance using docker driver\n",
      "\n",
      "#1 [internal] load build definition from Dockerfile\n",
      "#1 transferring dockerfile: 323B 0.0s done\n",
      "#1 DONE 0.0s\n",
      "\n",
      "#2 [internal] load metadata for docker.io/library/openjdk:17-slim\n",
      "#2 DONE 0.6s\n",
      "\n",
      "#3 [internal] load .dockerignore\n",
      "#3 transferring context: 2B done\n",
      "#3 DONE 0.0s\n",
      "\n",
      "#4 [1/4] FROM docker.io/library/openjdk:17-slim@sha256:aaa3b3cb27e3e520b8f116863d0580c438ed55ecfa0bc126b41f68c3f62f9774\n",
      "#4 DONE 0.0s\n",
      "\n",
      "#5 [internal] load build context\n",
      "#5 transferring context: 5.36kB done\n",
      "#5 DONE 0.0s\n",
      "\n",
      "#6 [2/4] WORKDIR /app\n",
      "#6 CACHED\n",
      "\n",
      "#7 [3/4] COPY Tetris.java .\n",
      "#7 CACHED\n",
      "\n",
      "#8 [4/4] RUN javac Tetris.java\n",
      "#8 CACHED\n",
      "\n",
      "#9 exporting to image\n",
      "#9 exporting layers done\n",
      "#9 writing image sha256:f15234a02352992cc01eb882b7d13c188b572b3babc07bad4003dace2d4b29fd done\n",
      "#9 naming to docker.io/library/tetris-java:1.0 done\n",
      "#9 DONE 0.0s\n"
     ]
    }
   ],
   "source": [
    "# Construir la imagen con nombre tetris-java:1.0\n",
    "!docker build -t tetris-java:1.0 .\n"
   ]
  },
  {
   "cell_type": "code",
   "execution_count": null,
   "id": "f429ba78",
   "metadata": {},
   "outputs": [
    {
     "name": "stdout",
     "output_type": "stream",
     "text": [
      ".....O....\n",
      "..........\n",
      "..........\n",
      "..........\n",
      "..........\n",
      "..........\n",
      "..........\n",
      "..........\n",
      "..........\n",
      "..........\n",
      "\n",
      "Mover (a: izquierda, d: derecha, s: abajo):\n"
     ]
    },
    {
     "name": "stderr",
     "output_type": "stream",
     "text": [
      "Exception in thread \"main\" java.util.NoSuchElementException: No line found\n",
      "\tat java.base/java.util.Scanner.nextLine(Scanner.java:1651)\n",
      "\tat Juego.iniciar(Tetris.java:37)\n",
      "\tat Tetris.main(Tetris.java:7)\n"
     ]
    }
   ],
   "source": [
    "# Ejecutar el contenedor en modo interactivo y eliminarlo al salir (Jupyter no es compatible con Scanner, por ello no ejecuta)\n",
    "!docker run --rm tetris-java:1.0\n"
   ]
  }
 ],
 "metadata": {
  "kernelspec": {
   "display_name": "Python 3",
   "language": "python",
   "name": "python3"
  },
  "language_info": {
   "codemirror_mode": {
    "name": "ipython",
    "version": 3
   },
   "file_extension": ".py",
   "mimetype": "text/x-python",
   "name": "python",
   "nbconvert_exporter": "python",
   "pygments_lexer": "ipython3",
   "version": "3.13.3"
  }
 },
 "nbformat": 4,
 "nbformat_minor": 5
}
